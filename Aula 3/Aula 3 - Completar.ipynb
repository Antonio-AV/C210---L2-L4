{
 "cells": [
  {
   "cell_type": "markdown",
   "id": "50dbefdc",
   "metadata": {},
   "source": [
    "# Aprendizado de Máquina - Algoritmos de Regressão"
   ]
  },
  {
   "cell_type": "markdown",
   "id": "1ff302f7",
   "metadata": {},
   "source": [
    "A Regressão é um dos métodos de previsão mais utilizados no meio estatístico, usado para estimar o valor de algo baseado em uma série de outros dados históricos. Como exemplo podemos citar a regressão linear, a decision tree, e o SRV."
   ]
  },
  {
   "cell_type": "markdown",
   "id": "c679c287",
   "metadata": {},
   "source": [
    "## Regressão Linear"
   ]
  },
  {
   "cell_type": "markdown",
   "id": "65371386",
   "metadata": {},
   "source": [
    "Sua origem vem da correlação linear, que é a verificação da existência de um relacionamento entre duas variáveis. Ou seja, dado X e Y, quanto que X explica Y. Para isso, a regressão linear utiliza os pontos de dados para encontrar a melhor linha de ajuste para modelar essa relação."
   ]
  },
  {
   "cell_type": "markdown",
   "id": "e133c1fa",
   "metadata": {},
   "source": [
    "<img src=\"exemplo.jpg\" style=width:500px;height:400px/>"
   ]
  },
  {
   "cell_type": "markdown",
   "id": "be5ed975",
   "metadata": {},
   "source": [
    "## Exercício"
   ]
  },
  {
   "cell_type": "markdown",
   "id": "7fb91806",
   "metadata": {},
   "source": [
    "### Importando bibliotecas"
   ]
  },
  {
   "cell_type": "code",
   "execution_count": 2,
   "id": "9f44d29b",
   "metadata": {},
   "outputs": [],
   "source": [
    "### Análise de dados\n",
    "import pandas as pd\n",
    "import numpy as np\n",
    "import matplotlib.pyplot as plt\n",
    "\n",
    "### Criação do modelo\n",
    "from sklearn.linear_model import LinearRegression\n",
    "from sklearn.model_selection import train_test_split \n",
    "\n",
    "### Avaliação de métricas\n",
    "from sklearn.metrics import mean_squared_error"
   ]
  },
  {
   "cell_type": "markdown",
   "id": "f4f52f40",
   "metadata": {},
   "source": [
    "### Leitura dos dados"
   ]
  },
  {
   "cell_type": "code",
   "execution_count": 3,
   "id": "dbddb7f1",
   "metadata": {},
   "outputs": [],
   "source": [
    "\n",
    "\n",
    "###importando no google collab\n",
    "\n",
    "#import io\n",
    "\n",
    "#from google.colab import files\n",
    "#uploaded = files.upload()\n",
    "\n",
    "#data = pd.read_csv(io.BytesIO(uploaded['student_scores.csv']))\n",
    "#data.head()"
   ]
  },
  {
   "cell_type": "markdown",
   "id": "b55645b3",
   "metadata": {},
   "source": [
    "### Análise exploratória"
   ]
  },
  {
   "cell_type": "code",
   "execution_count": 4,
   "id": "49ce68ca",
   "metadata": {},
   "outputs": [
    {
     "ename": "NameError",
     "evalue": "name 'data' is not defined",
     "output_type": "error",
     "traceback": [
      "\u001b[1;31m---------------------------------------------------------------------------\u001b[0m",
      "\u001b[1;31mNameError\u001b[0m                                 Traceback (most recent call last)",
      "\u001b[1;32m~\\AppData\\Local\\Temp/ipykernel_20848/3124154395.py\u001b[0m in \u001b[0;36m<module>\u001b[1;34m\u001b[0m\n\u001b[0;32m      1\u001b[0m \u001b[0mplt\u001b[0m\u001b[1;33m.\u001b[0m\u001b[0mrcParams\u001b[0m\u001b[1;33m[\u001b[0m\u001b[1;34m\"figure.dpi\"\u001b[0m\u001b[1;33m]\u001b[0m \u001b[1;33m=\u001b[0m \u001b[1;36m100\u001b[0m\u001b[1;33m\u001b[0m\u001b[1;33m\u001b[0m\u001b[0m\n\u001b[1;32m----> 2\u001b[1;33m \u001b[0mplt\u001b[0m\u001b[1;33m.\u001b[0m\u001b[0mscatter\u001b[0m\u001b[1;33m(\u001b[0m\u001b[0mdata\u001b[0m\u001b[1;33m[\u001b[0m\u001b[1;34m\"Hours\"\u001b[0m\u001b[1;33m]\u001b[0m\u001b[1;33m,\u001b[0m \u001b[0mdata\u001b[0m\u001b[1;33m[\u001b[0m\u001b[1;34m\"Scores\"\u001b[0m\u001b[1;33m]\u001b[0m\u001b[1;33m,\u001b[0m \u001b[0mcolor\u001b[0m\u001b[1;33m=\u001b[0m\u001b[1;34m\"black\"\u001b[0m\u001b[1;33m)\u001b[0m\u001b[1;33m\u001b[0m\u001b[1;33m\u001b[0m\u001b[0m\n\u001b[0m\u001b[0;32m      3\u001b[0m \u001b[0mplt\u001b[0m\u001b[1;33m.\u001b[0m\u001b[0mtitle\u001b[0m\u001b[1;33m(\u001b[0m\u001b[1;34m\"Hours vs Scores\"\u001b[0m\u001b[1;33m)\u001b[0m\u001b[1;33m\u001b[0m\u001b[1;33m\u001b[0m\u001b[0m\n\u001b[0;32m      4\u001b[0m \u001b[0mplt\u001b[0m\u001b[1;33m.\u001b[0m\u001b[0mxlabel\u001b[0m\u001b[1;33m(\u001b[0m\u001b[1;34m\"Hours Studied\"\u001b[0m\u001b[1;33m)\u001b[0m\u001b[1;33m\u001b[0m\u001b[1;33m\u001b[0m\u001b[0m\n\u001b[0;32m      5\u001b[0m \u001b[0mplt\u001b[0m\u001b[1;33m.\u001b[0m\u001b[0mylabel\u001b[0m\u001b[1;33m(\u001b[0m\u001b[1;34m\"Scores\"\u001b[0m\u001b[1;33m)\u001b[0m\u001b[1;33m\u001b[0m\u001b[1;33m\u001b[0m\u001b[0m\n",
      "\u001b[1;31mNameError\u001b[0m: name 'data' is not defined"
     ]
    }
   ],
   "source": [
    "plt.rcParams[\"figure.dpi\"] = 100\n",
    "plt.scatter(data[\"Hours\"], data[\"Scores\"], color=\"black\")\n",
    "plt.title(\"Hours vs Scores\")\n",
    "plt.xlabel(\"Hours Studied\")\n",
    "plt.ylabel(\"Scores\")\n",
    "plt.show()"
   ]
  },
  {
   "cell_type": "markdown",
   "id": "04b31edf",
   "metadata": {},
   "source": [
    "### Definição do modelo e treino"
   ]
  },
  {
   "cell_type": "code",
   "execution_count": 5,
   "id": "d6b8318d",
   "metadata": {},
   "outputs": [],
   "source": [
    "#instanciando modelo"
   ]
  },
  {
   "cell_type": "code",
   "execution_count": 6,
   "id": "ffd07483",
   "metadata": {},
   "outputs": [
    {
     "ename": "NameError",
     "evalue": "name 'X_train' is not defined",
     "output_type": "error",
     "traceback": [
      "\u001b[1;31m---------------------------------------------------------------------------\u001b[0m",
      "\u001b[1;31mNameError\u001b[0m                                 Traceback (most recent call last)",
      "\u001b[1;32m~\\AppData\\Local\\Temp/ipykernel_20848/1374002071.py\u001b[0m in \u001b[0;36m<module>\u001b[1;34m\u001b[0m\n\u001b[0;32m      7\u001b[0m \u001b[1;33m\u001b[0m\u001b[0m\n\u001b[0;32m      8\u001b[0m \u001b[1;33m\u001b[0m\u001b[0m\n\u001b[1;32m----> 9\u001b[1;33m \u001b[0mprint\u001b[0m\u001b[1;33m(\u001b[0m\u001b[1;34mf\"Tamanho X de treino: {X_train.shape}\"\u001b[0m\u001b[1;33m)\u001b[0m\u001b[1;33m\u001b[0m\u001b[1;33m\u001b[0m\u001b[0m\n\u001b[0m\u001b[0;32m     10\u001b[0m \u001b[0mprint\u001b[0m\u001b[1;33m(\u001b[0m\u001b[1;34mf\"Tamanho X de teste: {X_test.shape}\"\u001b[0m\u001b[1;33m)\u001b[0m\u001b[1;33m\u001b[0m\u001b[1;33m\u001b[0m\u001b[0m\n\u001b[0;32m     11\u001b[0m \u001b[0mprint\u001b[0m\u001b[1;33m(\u001b[0m\u001b[1;34mf\"Tamanho y de treino: {y_train.shape}\"\u001b[0m\u001b[1;33m)\u001b[0m\u001b[1;33m\u001b[0m\u001b[1;33m\u001b[0m\u001b[0m\n",
      "\u001b[1;31mNameError\u001b[0m: name 'X_train' is not defined"
     ]
    }
   ],
   "source": [
    "#Separando dados\n",
    "## Variável preditora\n",
    "\n",
    "## Variável alvo\n",
    "\n",
    "## Separando treino e teste\n",
    "\n",
    "\n",
    "print(f\"Tamanho X de treino: {X_train.shape}\")\n",
    "print(f\"Tamanho X de teste: {X_test.shape}\")\n",
    "print(f\"Tamanho y de treino: {y_train.shape}\")\n",
    "print(f\"Tamanho y de teste: {y_test.shape}\")"
   ]
  },
  {
   "cell_type": "markdown",
   "id": "113ec476",
   "metadata": {},
   "source": [
    "# Treinando modelos"
   ]
  },
  {
   "cell_type": "markdown",
   "id": "82c9641a",
   "metadata": {},
   "source": [
    "### Predições"
   ]
  },
  {
   "cell_type": "code",
   "execution_count": 7,
   "id": "f319b42a",
   "metadata": {},
   "outputs": [],
   "source": [
    "#Prevendo valores"
   ]
  },
  {
   "cell_type": "code",
   "execution_count": 8,
   "id": "991e7966",
   "metadata": {},
   "outputs": [
    {
     "ename": "NameError",
     "evalue": "name 'data' is not defined",
     "output_type": "error",
     "traceback": [
      "\u001b[1;31m---------------------------------------------------------------------------\u001b[0m",
      "\u001b[1;31mNameError\u001b[0m                                 Traceback (most recent call last)",
      "\u001b[1;32m~\\AppData\\Local\\Temp/ipykernel_20848/2044061648.py\u001b[0m in \u001b[0;36m<module>\u001b[1;34m\u001b[0m\n\u001b[1;32m----> 1\u001b[1;33m \u001b[0mplt\u001b[0m\u001b[1;33m.\u001b[0m\u001b[0mscatter\u001b[0m\u001b[1;33m(\u001b[0m\u001b[0mdata\u001b[0m\u001b[1;33m[\u001b[0m\u001b[1;34m\"Hours\"\u001b[0m\u001b[1;33m]\u001b[0m\u001b[1;33m,\u001b[0m \u001b[0mdata\u001b[0m\u001b[1;33m[\u001b[0m\u001b[1;34m\"Scores\"\u001b[0m\u001b[1;33m]\u001b[0m\u001b[1;33m,\u001b[0m \u001b[0mcolor\u001b[0m\u001b[1;33m=\u001b[0m\u001b[1;34m\"green\"\u001b[0m\u001b[1;33m)\u001b[0m\u001b[1;33m\u001b[0m\u001b[1;33m\u001b[0m\u001b[0m\n\u001b[0m\u001b[0;32m      2\u001b[0m \u001b[0mplt\u001b[0m\u001b[1;33m.\u001b[0m\u001b[0mplot\u001b[0m\u001b[1;33m(\u001b[0m\u001b[0mX_test\u001b[0m\u001b[1;33m,\u001b[0m \u001b[0my_predict\u001b[0m\u001b[1;33m,\u001b[0m \u001b[0mcolor\u001b[0m\u001b[1;33m=\u001b[0m\u001b[1;34m\"red\"\u001b[0m\u001b[1;33m,\u001b[0m \u001b[0mlinewidth\u001b[0m\u001b[1;33m=\u001b[0m\u001b[1;36m2\u001b[0m\u001b[1;33m)\u001b[0m\u001b[1;33m\u001b[0m\u001b[1;33m\u001b[0m\u001b[0m\n\u001b[0;32m      3\u001b[0m \u001b[0mplt\u001b[0m\u001b[1;33m.\u001b[0m\u001b[0mshow\u001b[0m\u001b[1;33m(\u001b[0m\u001b[1;33m)\u001b[0m\u001b[1;33m\u001b[0m\u001b[1;33m\u001b[0m\u001b[0m\n",
      "\u001b[1;31mNameError\u001b[0m: name 'data' is not defined"
     ]
    }
   ],
   "source": [
    "plt.scatter(data[\"Hours\"], data[\"Scores\"], color=\"green\")\n",
    "plt.plot(X_test, y_predict, color=\"red\", linewidth=2)\n",
    "plt.show()"
   ]
  },
  {
   "cell_type": "markdown",
   "id": "44c3aa4d",
   "metadata": {},
   "source": [
    "## Métrica de avaliação"
   ]
  },
  {
   "cell_type": "markdown",
   "id": "4925e8c1",
   "metadata": {},
   "source": [
    "### RMSE (Erro quadrático médio)"
   ]
  },
  {
   "cell_type": "markdown",
   "id": "81bfb61c",
   "metadata": {},
   "source": [
    "É comumente usada para expressar a acurácia dos resultados numéricos do modelo. (Quanto maior seu valor, pior o desempenho do modelo)."
   ]
  },
  {
   "cell_type": "markdown",
   "id": "e2ff72ac",
   "metadata": {},
   "source": [
    "<img src=\"eqm.jpg\" style=width:500px;height:400px/>"
   ]
  },
  {
   "cell_type": "markdown",
   "id": "93a0a2d7",
   "metadata": {},
   "source": [
    "Obs:\n",
    "\n",
    "    Overfitting: Quando o RMSE é muito próximo de 0, o sistema se torna \"viciado\", e acaba por se perder e não saber qual caminho seguir.\n",
    "    Underfitting: Quando o RMSE é muito alto, e os dados acabam por não serem suficientes e satisfatórios para predições futuras."
   ]
  },
  {
   "cell_type": "code",
   "execution_count": 9,
   "id": "f1f72196",
   "metadata": {},
   "outputs": [],
   "source": [
    "#Avaliando o modelo"
   ]
  },
  {
   "cell_type": "markdown",
   "id": "b7c9b7d4",
   "metadata": {},
   "source": [
    "### Predição do usuário"
   ]
  },
  {
   "cell_type": "code",
   "execution_count": null,
   "id": "6f6934e5",
   "metadata": {},
   "outputs": [],
   "source": []
  }
 ],
 "metadata": {
  "kernelspec": {
   "display_name": "Python 3 (ipykernel)",
   "language": "python",
   "name": "python3"
  },
  "language_info": {
   "codemirror_mode": {
    "name": "ipython",
    "version": 3
   },
   "file_extension": ".py",
   "mimetype": "text/x-python",
   "name": "python",
   "nbconvert_exporter": "python",
   "pygments_lexer": "ipython3",
   "version": "3.9.1"
  }
 },
 "nbformat": 4,
 "nbformat_minor": 5
}
